{
 "cells": [
  {
   "cell_type": "code",
   "execution_count": 1,
   "metadata": {},
   "outputs": [],
   "source": [
    "import numpy as np\n",
    "from cookiecutter.main import cookiecutter\n",
    "import collections\n",
    "from pathlib import Path\n",
    "import json\n",
    "import shutil"
   ]
  },
  {
   "cell_type": "code",
   "execution_count": 2,
   "metadata": {},
   "outputs": [],
   "source": [
    "SEED = 178 \n",
    "WORLD_NAME = 'segmentation_world'\n",
    "MODEL_NAME_PREFIX = 'tomato'\n",
    "OUT_PATH = Path(Path.cwd() / '../generated/test_04').resolve()\n",
    "MODEL_TEMPLATE = Path(Path.cwd() / '../templates/tomato_model').resolve()\n",
    "WORLD_TEMPLATE = Path(Path.cwd() / '../templates/tomato_world').resolve()\n",
    "ROW_COUNT = 3\n",
    "ROW_LENGTH = 10\n",
    "ROW_DIST = 2.5\n",
    "CROP_DIST = 0.3\n",
    "\n",
    "shutil.rmtree(OUT_PATH, ignore_errors=True)\n",
    "np.random.seed(SEED)\n"
   ]
  },
  {
   "cell_type": "code",
   "execution_count": 3,
   "metadata": {},
   "outputs": [],
   "source": [
    "# helper class to build the markers.json\n",
    "class Markers:\n",
    "    markers = []\n",
    "    last_id = 0\n",
    "\n",
    "    @staticmethod\n",
    "    def next_id():\n",
    "        Markers.last_id += 1\n",
    "        return Markers.last_id\n",
    "\n",
    "    @staticmethod\n",
    "    def reset():\n",
    "        Markers.markers = []\n",
    "    \n",
    "    @staticmethod\n",
    "    def add_plant(x, y, z):\n",
    "        id = Markers.next_id()\n",
    "        Markers.markers.append({\n",
    "            'marker_type': 'PLANT',\n",
    "            'id': id,\n",
    "            'translation': [x, y, z]\n",
    "        })\n",
    "        return id\n",
    "    \n",
    "\n",
    "    @staticmethod\n",
    "    def add_fruit(x, y, z, plant_id):\n",
    "        id = Markers.next_id()\n",
    "        Markers.markers.append({\n",
    "            'marker_type': 'FRUIT',\n",
    "            'id': id,\n",
    "            'translation': [x, y, z],\n",
    "            'plant_id': plant_id\n",
    "        })\n",
    "        return id\n",
    "    \n",
    "    @staticmethod\n",
    "    def dumps():\n",
    "        return json.dumps(Markers.markers, indent=4)"
   ]
  },
  {
   "cell_type": "code",
   "execution_count": 4,
   "metadata": {},
   "outputs": [
    {
     "name": "stdout",
     "output_type": "stream",
     "text": [
      "6 3.0\n"
     ]
    }
   ],
   "source": [
    "ROW_COUNT *= 2\n",
    "LL = ROW_LENGTH * CROP_DIST\n",
    "print(ROW_COUNT, LL)"
   ]
  },
  {
   "cell_type": "code",
   "execution_count": 5,
   "metadata": {
    "tags": [
     "outputPrepend"
    ]
   },
   "outputs": [
    {
     "name": "stdout",
     "output_type": "stream",
     "text": [
      "/bin/bash: línea 1: blender: orden no encontrada\r\n"
     ]
    },
    {
     "ename": "FileNotFoundError",
     "evalue": "[Errno 2] No such file or directory: '/home/angel/tdg_ws/src/world_gen/generated/test_04/segmentation_world/tomato_0/markers.json'",
     "output_type": "error",
     "traceback": [
      "\u001b[0;31m---------------------------------------------------------------------------\u001b[0m",
      "\u001b[0;31mFileNotFoundError\u001b[0m                         Traceback (most recent call last)",
      "Cell \u001b[0;32mIn[5], line 34\u001b[0m\n\u001b[1;32m     31\u001b[0m get_ipython()\u001b[38;5;241m.\u001b[39msystem(\u001b[38;5;124m'\u001b[39m\u001b[38;5;124m blender $blend --background --python $script -- --model_dir $dir --seed $seed\u001b[39m\u001b[38;5;124m'\u001b[39m)\n\u001b[1;32m     33\u001b[0m plant_id \u001b[38;5;241m=\u001b[39m Markers\u001b[38;5;241m.\u001b[39madd_plant(x_pos, y_pos, z_pos)\n\u001b[0;32m---> 34\u001b[0m \u001b[38;5;28;01mwith\u001b[39;00m \u001b[38;5;28;43mopen\u001b[39;49m\u001b[43m(\u001b[49m\u001b[38;5;28;43mdir\u001b[39;49m\u001b[43m \u001b[49m\u001b[38;5;241;43m/\u001b[39;49m\u001b[43m \u001b[49m\u001b[38;5;124;43m'\u001b[39;49m\u001b[38;5;124;43mmarkers.json\u001b[39;49m\u001b[38;5;124;43m'\u001b[39;49m\u001b[43m)\u001b[49m \u001b[38;5;28;01mas\u001b[39;00m markers_file:\n\u001b[1;32m     35\u001b[0m     plant_markers \u001b[38;5;241m=\u001b[39m json\u001b[38;5;241m.\u001b[39mload(markers_file)\n\u001b[1;32m     36\u001b[0m     \u001b[38;5;28;01mfor\u001b[39;00m marker \u001b[38;5;129;01min\u001b[39;00m plant_markers:\n",
      "File \u001b[0;32m~/.local/lib/python3.10/site-packages/IPython/core/interactiveshell.py:284\u001b[0m, in \u001b[0;36m_modified_open\u001b[0;34m(file, *args, **kwargs)\u001b[0m\n\u001b[1;32m    277\u001b[0m \u001b[38;5;28;01mif\u001b[39;00m file \u001b[38;5;129;01min\u001b[39;00m {\u001b[38;5;241m0\u001b[39m, \u001b[38;5;241m1\u001b[39m, \u001b[38;5;241m2\u001b[39m}:\n\u001b[1;32m    278\u001b[0m     \u001b[38;5;28;01mraise\u001b[39;00m \u001b[38;5;167;01mValueError\u001b[39;00m(\n\u001b[1;32m    279\u001b[0m         \u001b[38;5;124mf\u001b[39m\u001b[38;5;124m\"\u001b[39m\u001b[38;5;124mIPython won\u001b[39m\u001b[38;5;124m'\u001b[39m\u001b[38;5;124mt let you open fd=\u001b[39m\u001b[38;5;132;01m{\u001b[39;00mfile\u001b[38;5;132;01m}\u001b[39;00m\u001b[38;5;124m by default \u001b[39m\u001b[38;5;124m\"\u001b[39m\n\u001b[1;32m    280\u001b[0m         \u001b[38;5;124m\"\u001b[39m\u001b[38;5;124mas it is likely to crash IPython. If you know what you are doing, \u001b[39m\u001b[38;5;124m\"\u001b[39m\n\u001b[1;32m    281\u001b[0m         \u001b[38;5;124m\"\u001b[39m\u001b[38;5;124myou can use builtins\u001b[39m\u001b[38;5;124m'\u001b[39m\u001b[38;5;124m open.\u001b[39m\u001b[38;5;124m\"\u001b[39m\n\u001b[1;32m    282\u001b[0m     )\n\u001b[0;32m--> 284\u001b[0m \u001b[38;5;28;01mreturn\u001b[39;00m \u001b[43mio_open\u001b[49m\u001b[43m(\u001b[49m\u001b[43mfile\u001b[49m\u001b[43m,\u001b[49m\u001b[43m \u001b[49m\u001b[38;5;241;43m*\u001b[39;49m\u001b[43margs\u001b[49m\u001b[43m,\u001b[49m\u001b[43m \u001b[49m\u001b[38;5;241;43m*\u001b[39;49m\u001b[38;5;241;43m*\u001b[39;49m\u001b[43mkwargs\u001b[49m\u001b[43m)\u001b[49m\n",
      "\u001b[0;31mFileNotFoundError\u001b[0m: [Errno 2] No such file or directory: '/home/angel/tdg_ws/src/world_gen/generated/test_04/segmentation_world/tomato_0/markers.json'"
     ]
    }
   ],
   "source": [
    "models = {'list': []}\n",
    "Markers.reset()\n",
    "\n",
    "for x in range(ROW_COUNT):\n",
    "    for y in range(ROW_LENGTH):\n",
    "        model_name = 'tomato_{}'.format(x * ROW_LENGTH + y)\n",
    "\n",
    "        cookiecutter(str(MODEL_TEMPLATE),\n",
    "             output_dir=str(OUT_PATH), \n",
    "             overwrite_if_exists=True, \n",
    "             no_input=True,\n",
    "             extra_context={'world_name': WORLD_NAME, 'model_name': model_name})\n",
    "        if x%2 ==0:\n",
    "            x_pos, y_pos, z_pos = x * (ROW_DIST + CROP_DIST)*0.5, y * CROP_DIST, 0\n",
    "        else:\n",
    "            x_pos, y_pos, z_pos = (x-1) * (ROW_DIST + CROP_DIST)*0.5 + CROP_DIST, y * CROP_DIST, 0\n",
    "\n",
    "        \n",
    "        models['list'].append({\n",
    "            'model': model_name,\n",
    "            'name': model_name,\n",
    "            'pose': '{} {} 0 0 0 0'.format(x_pos, y_pos)\n",
    "        })\n",
    "        x_pos += np.random.uniform(-0.1, 0.1)\n",
    "        y_pos += np.random.uniform(-0.1, 0.1)\n",
    "        seed = np.random.randint(10000)\n",
    "        dir = (OUT_PATH / WORLD_NAME / model_name).resolve()\n",
    "        dir_blender = (Path.cwd() / '../blender').resolve()\n",
    "        blend = str(dir_blender / 'tomato_gen.blend')\n",
    "        script = str(dir_blender / 'tomato_gen.py')\n",
    "        ! blender $blend --background --python $script -- --model_dir $dir --seed $seed\n",
    "\n",
    "        plant_id = Markers.add_plant(x_pos, y_pos, z_pos)\n",
    "        with open(dir / 'markers.json') as markers_file:\n",
    "            plant_markers = json.load(markers_file)\n",
    "            for marker in plant_markers:\n",
    "                if marker['marker_type'] == 'FRUIT':\n",
    "                    Markers.add_fruit(\n",
    "                        marker['translation'][0] + x_pos,\n",
    "                        marker['translation'][1] + y_pos,\n",
    "                        marker['translation'][2] + z_pos,\n",
    "                        plant_id\n",
    "                    )\n",
    "            \n",
    "\n",
    "cookiecutter(str(WORLD_TEMPLATE),\n",
    "             output_dir=str(OUT_PATH), \n",
    "             overwrite_if_exists=True, \n",
    "             no_input=True,\n",
    "             extra_context={'world_name': WORLD_NAME, 'models': models})\n",
    "\n",
    "with open(OUT_PATH / WORLD_NAME / 'markers.json', 'w') as outfile:\n",
    "    json.dump(Markers.markers, outfile, indent=4, sort_keys=True)"
   ]
  },
  {
   "cell_type": "code",
   "execution_count": null,
   "metadata": {},
   "outputs": [],
   "source": []
  },
  {
   "cell_type": "code",
   "execution_count": null,
   "metadata": {},
   "outputs": [],
   "source": []
  }
 ],
 "metadata": {
  "celltoolbar": "Tags",
  "kernel_info": {
   "name": "python3"
  },
  "kernelspec": {
   "display_name": "Python 3 (ipykernel)",
   "language": "python",
   "name": "python3"
  },
  "language_info": {
   "codemirror_mode": {
    "name": "ipython",
    "version": 3
   },
   "file_extension": ".py",
   "mimetype": "text/x-python",
   "name": "python",
   "nbconvert_exporter": "python",
   "pygments_lexer": "ipython3",
   "version": "3.10.12"
  },
  "nteract": {
   "version": "0.22.0"
  }
 },
 "nbformat": 4,
 "nbformat_minor": 2
}
